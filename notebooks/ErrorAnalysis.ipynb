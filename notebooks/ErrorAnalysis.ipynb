{
 "cells": [
  {
   "cell_type": "code",
   "execution_count": null,
   "id": "0",
   "metadata": {},
   "outputs": [],
   "source": [
    "import numpy as np\n",
    "import matplotlib.pyplot as plt\n",
    "import torch as t\n",
    "from tqdm import tqdm\n",
    "from sklearn.decomposition import PCA\n",
    "from sklearn.cluster import KMeans\n",
    "from sklearn.metrics.pairwise import cosine_distances\n",
    "from pathlib import Path\n",
    "from scipy.spatial.distance import cdist"
   ]
  },
  {
   "cell_type": "code",
   "execution_count": null,
   "id": "1",
   "metadata": {},
   "outputs": [],
   "source": [
    "# load data:\n",
    "data_dir = Path('/Users/thomasbush/Documents/Vault/DSS_Tilburg/data')\n",
    "features = np.load(data_dir / 'features.npy')\n",
    "\n",
    "# load keyframes kmean:\n",
    "keyframes_kmean = data_dir / 'keyframes/_2025-04-22 00:25:47.432414_keyframes.pth'\n",
    "keyframes_idx_fps = data_dir / 'keyframes_output/keyframes_fps_500.npy'\n",
    "\n",
    "# load idx fps\n",
    "idx_fps = np.load(keyframes_idx_fps)\n",
    "\n",
    "#load keyframes kmean:\n",
    "data = t.load(keyframes_kmean, map_location='cpu', weights_only=False)\n",
    "keyframes_kmean = data['keyframes']\n",
    "kmean_idx = data['keyframe_idx']"
   ]
  },
  {
   "cell_type": "code",
   "execution_count": null,
   "id": "2",
   "metadata": {},
   "outputs": [],
   "source": [
    "# load video to display frames\n",
    "from utils.utils import loadVideoArray\n",
    "vid_path = '/Users/thomasbush/Documents/Vault/Iurilli_lab/3d_tracking/data/multicam_video_2024-07-22T10_19_22_cropped_20250325101012/multicam_video_2024-07-22T10_19_22_mirror-left.avi.mp4'\n",
    "vid = loadVideoArray(vid_path)"
   ]
  },
  {
   "cell_type": "markdown",
   "id": "3",
   "metadata": {},
   "source": [
    "## Error analysis:\n",
    "\n",
    "Display frames that are further from each other and that are close to each other for both clustering methods"
   ]
  },
  {
   "cell_type": "code",
   "execution_count": null,
   "id": "4",
   "metadata": {},
   "outputs": [],
   "source": [
    "pca = PCA(n_components=2)\n",
    "embedding = pca.fit_transform(features)"
   ]
  },
  {
   "cell_type": "markdown",
   "id": "5",
   "metadata": {},
   "source": [
    "### FPS analysis"
   ]
  },
  {
   "cell_type": "code",
   "execution_count": null,
   "id": "6",
   "metadata": {},
   "outputs": [],
   "source": [
    "plt.figure(figsize=(12, 9))\n",
    "\n",
    "# Plot all frames in light gray\n",
    "plt.scatter(embedding[:, 0], embedding[:, 1], c='lightgray', s=10, alpha=0.5, label=\"All frames\")\n",
    "\n",
    "# Highlight FPS-selected keyframes\n",
    "plt.scatter(embedding[idx_fps, 0], embedding[idx_fps, 1],\n",
    "            c='black', s=60, marker='*', label=\"Keyframes (FPS)\", edgecolors='white')\n",
    "\n",
    "# Annotate a few FPS keyframe indices\n",
    "for idx in idx_fps[:20]:  # only first 20 to avoid clutter\n",
    "    plt.annotate(str(idx), (embedding[idx, 0], embedding[idx, 1]), fontsize=8, color='black')\n",
    "\n",
    "# Labels and formatting\n",
    "plt.xlabel(\"PCA Dimension 1\")\n",
    "plt.ylabel(\"PCA Dimension 2\")\n",
    "plt.title(\"Keyframe Selection via Farthest Point Sampling (FPS)\")\n",
    "plt.legend()\n",
    "plt.tight_layout()\n",
    "\n",
    "# Optional: save\n",
    "save_dir = data_dir / 'keyframes'\n",
    "plt.savefig(save_dir / \"keyframes_fps_clustering.svg\", format=\"svg\", bbox_inches=\"tight\", dpi=300)\n",
    "\n",
    "plt.show()"
   ]
  },
  {
   "cell_type": "code",
   "execution_count": null,
   "id": "7",
   "metadata": {},
   "outputs": [],
   "source": [
    "# select three similar frames from the pca: 773, 123 and two far away: 0, 163\n",
    "\n",
    "f, axs = plt.subplots(1,2)\n",
    "axs[0].imshow(vid[0], cmap='gray')\n",
    "axs[1].imshow(vid[163], cmap='gray')\n",
    "\n",
    "plt.show()"
   ]
  },
  {
   "cell_type": "markdown",
   "id": "8",
   "metadata": {},
   "source": [
    "### Kmeans error analysis"
   ]
  },
  {
   "cell_type": "code",
   "execution_count": null,
   "id": "9",
   "metadata": {},
   "outputs": [],
   "source": [
    "import matplotlib.cm as cm\n",
    "from sklearn.metrics import pairwise_distances_argmin_min\n",
    "# Apply KMeans clustering\n",
    "features_pca = embedding\n",
    "kmeans = KMeans(n_clusters=500, random_state=42)\n",
    "kmeans.fit(features_pca)\n",
    "closest_indices, _ = pairwise_distances_argmin_min(kmeans.cluster_centers_, features_pca)\n",
    "\n",
    "# Assign clusters to all points\n",
    "labels = kmeans.predict(features_pca)\n",
    "colors = cm.tab20(labels.astype(float) % 20 / 20)\n",
    "\n",
    "# Plot\n",
    "plt.figure(figsize=(12, 9))\n",
    "plt.scatter(features_pca[:, 0], features_pca[:, 1], c=colors, s=10, alpha=0.5, label=\"All frames\")\n",
    "plt.scatter(features_pca[closest_indices, 0], features_pca[closest_indices, 1],\n",
    "            c='black', s=60, marker='*', label=\"Keyframes\", edgecolors='white')\n",
    "\n",
    "# Annotate a few keyframe indices for draw.io use\n",
    "for idx in closest_indices[:20]:  # Only first 20 to avoid clutter\n",
    "    plt.annotate(str(idx), (features_pca[idx, 0], features_pca[idx, 1]), fontsize=8, color='black')\n",
    "\n",
    "plt.xlabel(\"PCA Dimension 1\")\n",
    "plt.ylabel(\"PCA Dimension 2\")\n",
    "plt.title(\"Keyframe Selection via KMeans Clustering\")\n",
    "plt.legend()\n",
    "plt.tight_layout()\n",
    "# plt.savefig(save_path / 'pca_kmean_clustering.svg', format=\"svg\", bbox_inches=\"tight\", dpi=300)\n",
    "plt.show()\n"
   ]
  },
  {
   "cell_type": "code",
   "execution_count": null,
   "id": "10",
   "metadata": {},
   "outputs": [],
   "source": [
    "from sklearn.metrics import mean_squared_error\n",
    "\n",
    "def plot_two_frames_side_by_side(vid, idx1, idx2, titles=None, cmap='gray', save_path=None):\n",
    "    \"\"\"\n",
    "    Show two video frames side by side and display MSE between them.\n",
    "\n",
    "    Args:\n",
    "        vid: numpy array of video frames, shape (N, H, W) or (N, H, W, 3)\n",
    "        idx1, idx2: indices of frames to compare\n",
    "        titles: list or tuple of two strings for titles\n",
    "        cmap: color map to use ('gray' or None)\n",
    "        save_path: optional path to save the figure\n",
    "    \"\"\"\n",
    "    frame1 = vid[idx1]\n",
    "    frame2 = vid[idx2]\n",
    "\n",
    "    # Flatten and compute MSE\n",
    "    mse = mean_squared_error(frame1.flatten(), frame2.flatten())\n",
    "\n",
    "    fig, axs = plt.subplots(1, 2, figsize=(8, 4))\n",
    "    \n",
    "    axs[0].imshow(frame1, cmap=cmap)\n",
    "    axs[0].axis('off')\n",
    "    axs[0].set_title(titles[0] if titles else f\"Frame {idx1}\")\n",
    "    \n",
    "    axs[1].imshow(frame2, cmap=cmap)\n",
    "    axs[1].axis('off')\n",
    "    axs[1].set_title(titles[1] if titles else f\"Frame {idx2}\")\n",
    "\n",
    "    # Add MSE as a subtitle\n",
    "    plt.suptitle(f\"MSE between frames: {mse:.4f}\", fontsize=12)\n",
    "    plt.tight_layout(rect=[0, 0, 1, 0.95])  # leave room for suptitle\n",
    "\n",
    "    if save_path:\n",
    "        plt.savefig(save_path, dpi=300, bbox_inches='tight')\n",
    "    plt.show()"
   ]
  },
  {
   "cell_type": "code",
   "execution_count": null,
   "id": "11",
   "metadata": {},
   "outputs": [],
   "source": [
    "# Assuming vid is your frame array and frames are grayscale\n",
    "plot_two_frames_side_by_side(vid, idx1=773, idx2=123, save_path=data_dir / 'keyframes/closefps.png')"
   ]
  },
  {
   "cell_type": "code",
   "execution_count": null,
   "id": "12",
   "metadata": {},
   "outputs": [],
   "source": [
    "plot_two_frames_side_by_side(vid, idx1=0, idx2=163, save_path=data_dir / 'keyframes/furtherfps.png')"
   ]
  },
  {
   "cell_type": "code",
   "execution_count": null,
   "id": "13",
   "metadata": {},
   "outputs": [],
   "source": [
    "plot_two_frames_side_by_side(vid, idx1=33826, idx2=16779, save_path=data_dir / 'keyframes/closekmeans.png')"
   ]
  },
  {
   "cell_type": "code",
   "execution_count": null,
   "id": "14",
   "metadata": {},
   "outputs": [],
   "source": [
    "plot_two_frames_side_by_side(vid, idx1=11906, idx2=30501,   save_path=data_dir / 'keyframes/furtherkmeans.png')"
   ]
  },
  {
   "cell_type": "code",
   "execution_count": null,
   "id": "15",
   "metadata": {},
   "outputs": [],
   "source": []
  }
 ],
 "metadata": {
  "kernelspec": {
   "display_name": "Python 3 (ipykernel)",
   "language": "python",
   "name": "python3"
  },
  "language_info": {
   "codemirror_mode": {
    "name": "ipython",
    "version": 3
   },
   "file_extension": ".py",
   "mimetype": "text/x-python",
   "name": "python",
   "nbconvert_exporter": "python",
   "pygments_lexer": "ipython3",
   "version": "3.11.11"
  }
 },
 "nbformat": 4,
 "nbformat_minor": 5
}
