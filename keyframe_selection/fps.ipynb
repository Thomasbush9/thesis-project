{
 "cells": [
  {
   "cell_type": "code",
   "execution_count": null,
   "id": "0",
   "metadata": {},
   "outputs": [],
   "source": [
    "import numpy as np\n",
    "from sklearn.decomposition import PCA\n",
    "import matplotlib.pyplot as plt"
   ]
  },
  {
   "cell_type": "code",
   "execution_count": null,
   "id": "1",
   "metadata": {},
   "outputs": [],
   "source": [
    "keyframes = np.load('/Users/thomasbush/Documents/Vault/DSS_Tilburg/data/keyframes_output/keyframes_fps_500.npy')\n",
    "features = np.load('/Users/thomasbush/Documents/Vault/DSS_Tilburg/data/features.npy')\n",
    "pca = PCA(n_components=2)\n",
    "\n",
    "embedding = pca.fit_transform(features)\n"
   ]
  },
  {
   "cell_type": "code",
   "execution_count": null,
   "id": "2",
   "metadata": {},
   "outputs": [],
   "source": [
    "from pathlib import Path\n",
    "save_dir = Path('/Users/thomasbush/Documents/Vault/DSS_Tilburg/data')"
   ]
  },
  {
   "cell_type": "code",
   "execution_count": null,
   "id": "3",
   "metadata": {},
   "outputs": [],
   "source": [
    "import matplotlib.pyplot as plt\n",
    "\n",
    "plt.figure(figsize=(12, 8))\n",
    "plt.scatter(embedding[:, 0], embedding[:, 1], s=1, alpha=0.3, label=\"All frames\")\n",
    "plt.scatter(embedding[keyframes, 0], embedding[keyframes, 1], s=20, c='red', label=\"Keyframes\")\n",
    "\n",
    "plt.xlabel(\"PCA Dimension 1\")\n",
    "plt.ylabel(\"PCA Dimension 2\")\n",
    "plt.title(\"Keyframe Selection PCA space, fps method\")\n",
    "plt.savefig(save_dir / \"keyframes_clustered.png\", dpi=300)\n",
    "plt.legend()\n"
   ]
  },
  {
   "cell_type": "code",
   "execution_count": null,
   "id": "4",
   "metadata": {},
   "outputs": [],
   "source": []
  }
 ],
 "metadata": {
  "kernelspec": {
   "display_name": "Python 3 (ipykernel)",
   "language": "python",
   "name": "python3"
  },
  "language_info": {
   "codemirror_mode": {
    "name": "ipython",
    "version": 3
   },
   "file_extension": ".py",
   "mimetype": "text/x-python",
   "name": "python",
   "nbconvert_exporter": "python",
   "pygments_lexer": "ipython3",
   "version": "3.11.11"
  }
 },
 "nbformat": 4,
 "nbformat_minor": 5
}
